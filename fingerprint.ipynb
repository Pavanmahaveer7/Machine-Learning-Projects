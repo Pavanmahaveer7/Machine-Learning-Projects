{
 "cells": [
  {
   "cell_type": "code",
   "execution_count": 4,
   "metadata": {},
   "outputs": [
    {
     "name": "stdout",
     "output_type": "stream",
     "text": [
      "accuracy 0.925\n",
      "predd live\n"
     ]
    },
    {
     "data": {
      "image/png": "[encoded data removed]",
      "text/plain": [
       "<Figure size 432x288 with 1 Axes>"
      ]
     },
     "metadata": {
      "needs_background": "light"
     },
     "output_type": "display_data"
    }
   ],
   "source": [
    "import cv2\n",
    "\n",
    "import os\n",
    "\n",
    "import numpy as np\n",
    "\n",
    "import matplotlib.pyplot as plt\n",
    "\n",
    "import pickle \n",
    "import random\n",
    "\n",
    "from sklearn.model_selection import train_test_split\n",
    "from sklearn.svm import SVC\n",
    "#dir= r'C:\\Users\\PAVAN\\Desktop\\BIOMETRIC DATA'\n",
    "\n",
    "\n",
    "#categories=['live','spoof']\n",
    "#data=[]\n",
    "#for category in categories:\n",
    "#    path=os.path.join(dir,category)\n",
    "#    label=categories.index(category)\n",
    "\n",
    "#       imgpath=os.path.join(path,img)\n",
    "#        fin_img=cv2.imread(imgpath,0)\n",
    "        #cv2.imshow('image',fin_img)\n",
    "#        try:\n",
    "#            fin_img=cv2.resize(fin_img,(10,10))\n",
    "#            im=np.array(fin_img).flatten()\n",
    "#            data.append([im,label])\n",
    "#        except Exception as e:\n",
    "#            pass\n",
    "        \n",
    "#print(len(data))\n",
    "        \n",
    "#pick_in=open('data1.pickle','wb')\n",
    "#pickle.dump(data,pick_in)\n",
    "\n",
    "#pick_in.close()\n",
    "\n",
    "pick_in=open('data1.pickle','rb')\n",
    "data=pickle.load(pick_in)\n",
    "pick_in.close()\n",
    "\n",
    "random.shuffle(data)\n",
    "\n",
    "features=[]\n",
    "labels=[]\n",
    "\n",
    "for feature , label in data:\n",
    "    features.append(feature)\n",
    "    labels.append(label)\n",
    "\n",
    "    \n",
    "xtrain,xtest,ytrain,ytest = train_test_split(features,labels,test_size=0.30)\n",
    "\n",
    "#model= SVC(C=1,kernel='poly',gamma='auto')\n",
    "\n",
    "#model.fit(xtrain,ytrain)\n",
    "\n",
    "#model.predict(xtest)\n",
    "\n",
    "pick=open('mdl1.sav','rb')\n",
    "\n",
    "model=pickle.load(pick)\n",
    "\n",
    "pick.close()\n",
    "\n",
    "prediction=model.predict(xtest)\n",
    "\n",
    "accuracy=model.score(xtest,ytest)\n",
    "\n",
    "categories=['live','spoof']\n",
    "\n",
    "print('accuracy', accuracy)\n",
    "\n",
    "print('predd',categories[prediction[0]])\n",
    "\n",
    "myfin=xtest[0].reshape(10,10)\n",
    "plt.imshow(myfin,cmap='binary')\n",
    "\n",
    "plt.show()\n",
    "\n",
    "#pickle.dump(model,pick)\n",
    "\n",
    "\n",
    "\n"
   ]
  },
  {
   "cell_type": "code",
   "execution_count": null,
   "metadata": {},
   "outputs": [],
   "source": []
  },
  {
   "cell_type": "code",
   "execution_count": null,
   "metadata": {},
   "outputs": [],
   "source": []
  },
  {
   "cell_type": "code",
   "execution_count": null,
   "metadata": {},
   "outputs": [],
   "source": []
  }
 ],
 "metadata": {
  "kernelspec": {
   "display_name": "Python 3",
   "language": "python",
   "name": "python3"
  },
  "language_info": {
   "codemirror_mode": {
    "name": "ipython",
    "version": 3
   },
   "file_extension": ".py",
   "mimetype": "text/x-python",
   "name": "python",
   "nbconvert_exporter": "python",
   "pygments_lexer": "ipython3",
   "version": "3.8.5"
  }
 },
 "nbformat": 4,
 "nbformat_minor": 4
}
